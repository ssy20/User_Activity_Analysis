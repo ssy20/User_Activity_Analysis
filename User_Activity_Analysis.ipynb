{
 "cells": [
  {
   "cell_type": "markdown",
   "metadata": {},
   "source": [
    "# Goal\n",
    "\n",
    "Given information about all user searches within a session, cluster users based on their searching history and identify searches that are likely to happen.\n",
    "\n",
    "The dataset is in JSON files. Each row includes different cities which have been searched for by a user within the same session, as well as some basic information about users an the cities.\n"
   ]
  },
  {
   "cell_type": "markdown",
   "metadata": {},
   "source": [
    "# Data"
   ]
  },
  {
   "cell_type": "markdown",
   "metadata": {},
   "source": [
    "- session_id : session id. Unique by row\n",
    "- unix_timestamp : the starting time of the current session\n",
    "- cities : the cities which were searched for within the same session by a user\n",
    "- user : \n",
    "    - user_id: the id of the user\n",
    "    - joining_date: when the user created the account\n",
    "    - country: where the user is based"
   ]
  },
  {
   "cell_type": "code",
   "execution_count": 62,
   "metadata": {},
   "outputs": [],
   "source": [
    "import pandas as pd\n",
    "import json\n",
    "import statistics\n",
    "import urllib\n",
    "import numpy as np\n",
    "import scipy\n",
    "import matplotlib.pyplot as plt\n",
    "import seaborn as sns\n",
    "import itertools\n",
    "import warnings\n",
    "warnings.filterwarnings('ignore')"
   ]
  },
  {
   "cell_type": "code",
   "execution_count": 36,
   "metadata": {},
   "outputs": [],
   "source": [
    "with open('searche_history.json') as fp:\n",
    "    data_json = json.load(fp)\n"
   ]
  },
  {
   "cell_type": "code",
   "execution_count": 37,
   "metadata": {},
   "outputs": [
    {
     "name": "stdout",
     "output_type": "stream",
     "text": [
      "[{'session_id': ['D258NVMV202LS'], 'unix_timestamp': [1442640552], 'cities': ['San Jose CA, Montreal QC'], 'user': [[{'user_id': 5749, 'joining_date': '2015-04-02', 'country': 'FR'}]]}]\n"
     ]
    }
   ],
   "source": [
    "print(data_json[:1])"
   ]
  },
  {
   "cell_type": "code",
   "execution_count": 38,
   "metadata": {},
   "outputs": [],
   "source": [
    "# convert the file to a dataframe\n",
    "data = pandas.DataFrame(columns=[\"session_id\", \"timestamp\", \"cities\", \"user_id\", \"joining_date\", \"country\"])\n",
    "\n",
    "for i in range(len(data_json)):\n",
    "    data.loc[i, \"session_id\"]   = data_json[i][\"session_id\"][0] \n",
    "    data.loc[i, \"timestamp\"]    = data_json[i][\"unix_timestamp\"][0] \n",
    "    data.loc[i, \"cities\"]       = data_json[i][\"cities\"][0] \n",
    "    data.loc[i, \"user_id\"]      = data_json[i][\"user\"][0][0][\"user_id\"]\n",
    "    data.loc[i, \"joining_date\"] = data_json[i][\"user\"][0][0][\"joining_date\"]\n",
    "    data.loc[i, \"country\"]      = data_json[i][\"user\"][0][0][\"country\"]\n",
    "     \n"
   ]
  },
  {
   "cell_type": "code",
   "execution_count": 39,
   "metadata": {},
   "outputs": [
    {
     "data": {
      "text/html": [
       "<div>\n",
       "<style scoped>\n",
       "    .dataframe tbody tr th:only-of-type {\n",
       "        vertical-align: middle;\n",
       "    }\n",
       "\n",
       "    .dataframe tbody tr th {\n",
       "        vertical-align: top;\n",
       "    }\n",
       "\n",
       "    .dataframe thead th {\n",
       "        text-align: right;\n",
       "    }\n",
       "</style>\n",
       "<table border=\"1\" class=\"dataframe\">\n",
       "  <thead>\n",
       "    <tr style=\"text-align: right;\">\n",
       "      <th></th>\n",
       "      <th>session_id</th>\n",
       "      <th>timestamp</th>\n",
       "      <th>cities</th>\n",
       "      <th>user_id</th>\n",
       "      <th>joining_date</th>\n",
       "      <th>country</th>\n",
       "    </tr>\n",
       "  </thead>\n",
       "  <tbody>\n",
       "    <tr>\n",
       "      <th>0</th>\n",
       "      <td>D258NVMV202LS</td>\n",
       "      <td>1442640552</td>\n",
       "      <td>San Jose CA, Montreal QC</td>\n",
       "      <td>5749</td>\n",
       "      <td>2015-04-02</td>\n",
       "      <td>FR</td>\n",
       "    </tr>\n",
       "    <tr>\n",
       "      <th>1</th>\n",
       "      <td>TDG10UKG7I4LR</td>\n",
       "      <td>1432110137</td>\n",
       "      <td>New York NY</td>\n",
       "      <td>10716</td>\n",
       "      <td>2015-03-30</td>\n",
       "      <td>DE</td>\n",
       "    </tr>\n",
       "    <tr>\n",
       "      <th>2</th>\n",
       "      <td>OH4ZDIGN9BLQS</td>\n",
       "      <td>1437049311</td>\n",
       "      <td>Montreal QC, Quebec QC</td>\n",
       "      <td>2941</td>\n",
       "      <td>2015-03-16</td>\n",
       "      <td></td>\n",
       "    </tr>\n",
       "    <tr>\n",
       "      <th>3</th>\n",
       "      <td>CWHIAYKQ7RA28</td>\n",
       "      <td>1432215908</td>\n",
       "      <td>Chicago IL</td>\n",
       "      <td>2164</td>\n",
       "      <td>2015-03-27</td>\n",
       "      <td>FR</td>\n",
       "    </tr>\n",
       "    <tr>\n",
       "      <th>4</th>\n",
       "      <td>GI8GZJAWAC80P</td>\n",
       "      <td>1443556226</td>\n",
       "      <td>Toronto ON, Houston TX</td>\n",
       "      <td>10493</td>\n",
       "      <td>2015-03-31</td>\n",
       "      <td>US</td>\n",
       "    </tr>\n",
       "  </tbody>\n",
       "</table>\n",
       "</div>"
      ],
      "text/plain": [
       "      session_id   timestamp                    cities user_id joining_date  \\\n",
       "0  D258NVMV202LS  1442640552  San Jose CA, Montreal QC    5749   2015-04-02   \n",
       "1  TDG10UKG7I4LR  1432110137               New York NY   10716   2015-03-30   \n",
       "2  OH4ZDIGN9BLQS  1437049311    Montreal QC, Quebec QC    2941   2015-03-16   \n",
       "3  CWHIAYKQ7RA28  1432215908                Chicago IL    2164   2015-03-27   \n",
       "4  GI8GZJAWAC80P  1443556226    Toronto ON, Houston TX   10493   2015-03-31   \n",
       "\n",
       "  country  \n",
       "0      FR  \n",
       "1      DE  \n",
       "2          \n",
       "3      FR  \n",
       "4      US  "
      ]
     },
     "execution_count": 39,
     "metadata": {},
     "output_type": "execute_result"
    }
   ],
   "source": [
    "data.head()"
   ]
  },
  {
   "cell_type": "code",
   "execution_count": 40,
   "metadata": {},
   "outputs": [
    {
     "data": {
      "text/html": [
       "<div>\n",
       "<style scoped>\n",
       "    .dataframe tbody tr th:only-of-type {\n",
       "        vertical-align: middle;\n",
       "    }\n",
       "\n",
       "    .dataframe tbody tr th {\n",
       "        vertical-align: top;\n",
       "    }\n",
       "\n",
       "    .dataframe thead th {\n",
       "        text-align: right;\n",
       "    }\n",
       "</style>\n",
       "<table border=\"1\" class=\"dataframe\">\n",
       "  <thead>\n",
       "    <tr style=\"text-align: right;\">\n",
       "      <th></th>\n",
       "      <th>session_id</th>\n",
       "      <th>timestamp</th>\n",
       "      <th>cities</th>\n",
       "      <th>user_id</th>\n",
       "      <th>joining_date</th>\n",
       "      <th>country</th>\n",
       "    </tr>\n",
       "  </thead>\n",
       "  <tbody>\n",
       "    <tr>\n",
       "      <th>count</th>\n",
       "      <td>20022</td>\n",
       "      <td>20022</td>\n",
       "      <td>20022</td>\n",
       "      <td>20022</td>\n",
       "      <td>20022</td>\n",
       "      <td>20022</td>\n",
       "    </tr>\n",
       "    <tr>\n",
       "      <th>unique</th>\n",
       "      <td>20022</td>\n",
       "      <td>20001</td>\n",
       "      <td>1293</td>\n",
       "      <td>9252</td>\n",
       "      <td>35</td>\n",
       "      <td>7</td>\n",
       "    </tr>\n",
       "    <tr>\n",
       "      <th>top</th>\n",
       "      <td>NFVFA84KGHEBA</td>\n",
       "      <td>1436941314</td>\n",
       "      <td>New York NY</td>\n",
       "      <td>9335</td>\n",
       "      <td>2015-03-14</td>\n",
       "      <td>US</td>\n",
       "    </tr>\n",
       "    <tr>\n",
       "      <th>freq</th>\n",
       "      <td>1</td>\n",
       "      <td>2</td>\n",
       "      <td>2296</td>\n",
       "      <td>8</td>\n",
       "      <td>784</td>\n",
       "      <td>3772</td>\n",
       "    </tr>\n",
       "  </tbody>\n",
       "</table>\n",
       "</div>"
      ],
      "text/plain": [
       "           session_id   timestamp       cities  user_id joining_date country\n",
       "count           20022       20022        20022    20022        20022   20022\n",
       "unique          20022       20001         1293     9252           35       7\n",
       "top     NFVFA84KGHEBA  1436941314  New York NY     9335   2015-03-14      US\n",
       "freq                1           2         2296        8          784    3772"
      ]
     },
     "execution_count": 40,
     "metadata": {},
     "output_type": "execute_result"
    }
   ],
   "source": [
    "data.describe()"
   ]
  },
  {
   "cell_type": "code",
   "execution_count": 41,
   "metadata": {},
   "outputs": [
    {
     "data": {
      "text/plain": [
       "session_id      0\n",
       "timestamp       0\n",
       "cities          0\n",
       "user_id         0\n",
       "joining_date    0\n",
       "country         0\n",
       "dtype: int64"
      ]
     },
     "execution_count": 41,
     "metadata": {},
     "output_type": "execute_result"
    }
   ],
   "source": [
    "data.isna().sum(axis = 0)"
   ]
  },
  {
   "cell_type": "code",
   "execution_count": 42,
   "metadata": {},
   "outputs": [
    {
     "data": {
      "text/plain": [
       "array(['FR', 'DE', '', 'US', 'IT', 'UK', 'ES'], dtype=object)"
      ]
     },
     "execution_count": 42,
     "metadata": {},
     "output_type": "execute_result"
    }
   ],
   "source": [
    "data['country'].unique()"
   ]
  },
  {
   "cell_type": "code",
   "execution_count": 43,
   "metadata": {},
   "outputs": [
    {
     "data": {
      "text/plain": [
       "US    3772\n",
       "UK    3754\n",
       "DE    3741\n",
       "      2769\n",
       "FR    2341\n",
       "IT    1843\n",
       "ES    1802\n",
       "Name: country, dtype: int64"
      ]
     },
     "execution_count": 43,
     "metadata": {},
     "output_type": "execute_result"
    }
   ],
   "source": [
    "# there are missing values in the country column\n",
    "data['country'].value_counts()"
   ]
  },
  {
   "cell_type": "code",
   "execution_count": 44,
   "metadata": {
    "scrolled": true
   },
   "outputs": [
    {
     "data": {
      "image/png": "[encoded data removed]",
      "text/plain": [
       "<Figure size 432x288 with 1 Axes>"
      ]
     },
     "metadata": {
      "needs_background": "light"
     },
     "output_type": "display_data"
    }
   ],
   "source": [
    "# Overall, peak time is during 7AM-4PM UTC time\n",
    "data['timestamp']=pandas.to_datetime(data['timestamp'], unit='s')\n",
    "data['hour']=data['timestamp'].apply(lambda x: x.hour)\n",
    "sns.countplot(x='hour', data=data)\n",
    "plt.show()"
   ]
  },
  {
   "cell_type": "code",
   "execution_count": 45,
   "metadata": {},
   "outputs": [
    {
     "data": {
      "image/png": "[encoded data removed]",
      "text/plain": [
       "<Figure size 720x1512 with 7 Axes>"
      ]
     },
     "metadata": {
      "needs_background": "light"
     },
     "output_type": "display_data"
    }
   ],
   "source": [
    "# plot site activity distribution per country and try to guess the time zone based on user activity\n",
    "g = sns.FacetGrid(data, row=\"country\", row_order=data.country.value_counts().index, margin_titles = True)\n",
    "g.map(sns.countplot,'hour', order = range(24))\n",
    "g.fig.set_figwidth(10)\n",
    "plt.show()"
   ]
  },
  {
   "cell_type": "markdown",
   "metadata": {},
   "source": [
    "Based on the plot, Western European countries like Germany, Spain, etc. are pretty consistent. The missing country seems to be shifted to the left (aka east) by 4 hours or so. It is most likely a country within the Middle East."
   ]
  },
  {
   "cell_type": "code",
   "execution_count": 46,
   "metadata": {},
   "outputs": [],
   "source": [
    "# For each city searched by the user, identify the city which is most likely to be searched within the same session\n",
    "# create a list of all the searched cities \n",
    "cities = data['cities'].str.split(\", \")\n",
    "cities= np.hstack(cities)"
   ]
  },
  {
   "cell_type": "code",
   "execution_count": 47,
   "metadata": {},
   "outputs": [
    {
     "data": {
      "text/plain": [
       "array(['San Jose CA', 'Montreal QC', 'New York NY', ..., 'Chicago IL',\n",
       "       'Los Angeles CA', 'Long Beach CA'], dtype='<U27')"
      ]
     },
     "execution_count": 47,
     "metadata": {},
     "output_type": "execute_result"
    }
   ],
   "source": [
    "cities"
   ]
  },
  {
   "cell_type": "code",
   "execution_count": 48,
   "metadata": {},
   "outputs": [],
   "source": [
    "#for each session_id let's get count of cities searched together\n",
    "count_per_session = data['cities'].apply(lambda x: len(x.split(',')))"
   ]
  },
  {
   "cell_type": "code",
   "execution_count": 49,
   "metadata": {},
   "outputs": [
    {
     "data": {
      "text/plain": [
       "0        2\n",
       "1        1\n",
       "2        2\n",
       "3        1\n",
       "4        2\n",
       "        ..\n",
       "20017    1\n",
       "20018    1\n",
       "20019    1\n",
       "20020    1\n",
       "20021    2\n",
       "Name: cities, Length: 20022, dtype: int64"
      ]
     },
     "execution_count": 49,
     "metadata": {},
     "output_type": "execute_result"
    }
   ],
   "source": [
    "count_per_session"
   ]
  },
  {
   "cell_type": "code",
   "execution_count": 50,
   "metadata": {},
   "outputs": [],
   "source": [
    "#Let's create a vector where each session is repeated as many times as count_per_session\n",
    "session_id = np.repeat(data['session_id'], count_per_session)"
   ]
  },
  {
   "cell_type": "code",
   "execution_count": 51,
   "metadata": {},
   "outputs": [
    {
     "data": {
      "text/plain": [
       "0        D258NVMV202LS\n",
       "0        D258NVMV202LS\n",
       "1        TDG10UKG7I4LR\n",
       "2        OH4ZDIGN9BLQS\n",
       "2        OH4ZDIGN9BLQS\n",
       "             ...      \n",
       "20018    GQ4W7LU56MHXK\n",
       "20019    N2FQ84QXOBFQM\n",
       "20020    54RKP04D2OGDB\n",
       "20021    HMAKFWT4IV14H\n",
       "20021    HMAKFWT4IV14H\n",
       "Name: session_id, Length: 33071, dtype: object"
      ]
     },
     "execution_count": 51,
     "metadata": {},
     "output_type": "execute_result"
    }
   ],
   "source": [
    "session_id"
   ]
  },
  {
   "cell_type": "code",
   "execution_count": 52,
   "metadata": {},
   "outputs": [
    {
     "data": {
      "text/html": [
       "<div>\n",
       "<style scoped>\n",
       "    .dataframe tbody tr th:only-of-type {\n",
       "        vertical-align: middle;\n",
       "    }\n",
       "\n",
       "    .dataframe tbody tr th {\n",
       "        vertical-align: top;\n",
       "    }\n",
       "\n",
       "    .dataframe thead th {\n",
       "        text-align: right;\n",
       "    }\n",
       "</style>\n",
       "<table border=\"1\" class=\"dataframe\">\n",
       "  <thead>\n",
       "    <tr style=\"text-align: right;\">\n",
       "      <th></th>\n",
       "      <th>cities</th>\n",
       "      <th>session_id</th>\n",
       "    </tr>\n",
       "  </thead>\n",
       "  <tbody>\n",
       "    <tr>\n",
       "      <th>0</th>\n",
       "      <td>San Jose CA</td>\n",
       "      <td>D258NVMV202LS</td>\n",
       "    </tr>\n",
       "    <tr>\n",
       "      <th>0</th>\n",
       "      <td>Montreal QC</td>\n",
       "      <td>D258NVMV202LS</td>\n",
       "    </tr>\n",
       "    <tr>\n",
       "      <th>1</th>\n",
       "      <td>New York NY</td>\n",
       "      <td>TDG10UKG7I4LR</td>\n",
       "    </tr>\n",
       "    <tr>\n",
       "      <th>2</th>\n",
       "      <td>Montreal QC</td>\n",
       "      <td>OH4ZDIGN9BLQS</td>\n",
       "    </tr>\n",
       "    <tr>\n",
       "      <th>2</th>\n",
       "      <td>Quebec QC</td>\n",
       "      <td>OH4ZDIGN9BLQS</td>\n",
       "    </tr>\n",
       "    <tr>\n",
       "      <th>...</th>\n",
       "      <td>...</td>\n",
       "      <td>...</td>\n",
       "    </tr>\n",
       "    <tr>\n",
       "      <th>20018</th>\n",
       "      <td>OTTAWA ON</td>\n",
       "      <td>GQ4W7LU56MHXK</td>\n",
       "    </tr>\n",
       "    <tr>\n",
       "      <th>20019</th>\n",
       "      <td>Indianapolis IN</td>\n",
       "      <td>N2FQ84QXOBFQM</td>\n",
       "    </tr>\n",
       "    <tr>\n",
       "      <th>20020</th>\n",
       "      <td>Chicago IL</td>\n",
       "      <td>54RKP04D2OGDB</td>\n",
       "    </tr>\n",
       "    <tr>\n",
       "      <th>20021</th>\n",
       "      <td>Los Angeles CA</td>\n",
       "      <td>HMAKFWT4IV14H</td>\n",
       "    </tr>\n",
       "    <tr>\n",
       "      <th>20021</th>\n",
       "      <td>Long Beach CA</td>\n",
       "      <td>HMAKFWT4IV14H</td>\n",
       "    </tr>\n",
       "  </tbody>\n",
       "</table>\n",
       "<p>33071 rows × 2 columns</p>\n",
       "</div>"
      ],
      "text/plain": [
       "                cities     session_id\n",
       "0          San Jose CA  D258NVMV202LS\n",
       "0          Montreal QC  D258NVMV202LS\n",
       "1          New York NY  TDG10UKG7I4LR\n",
       "2          Montreal QC  OH4ZDIGN9BLQS\n",
       "2            Quebec QC  OH4ZDIGN9BLQS\n",
       "...                ...            ...\n",
       "20018        OTTAWA ON  GQ4W7LU56MHXK\n",
       "20019  Indianapolis IN  N2FQ84QXOBFQM\n",
       "20020       Chicago IL  54RKP04D2OGDB\n",
       "20021   Los Angeles CA  HMAKFWT4IV14H\n",
       "20021    Long Beach CA  HMAKFWT4IV14H\n",
       "\n",
       "[33071 rows x 2 columns]"
      ]
     },
     "execution_count": 52,
     "metadata": {},
     "output_type": "execute_result"
    }
   ],
   "source": [
    "data_similarity = pandas.DataFrame({'cities':cities, 'session_id':session_id})\n",
    "data_similarity    "
   ]
  },
  {
   "cell_type": "code",
   "execution_count": 53,
   "metadata": {},
   "outputs": [
    {
     "name": "stdout",
     "output_type": "stream",
     "text": [
      "(20022, 87)\n"
     ]
    }
   ],
   "source": [
    "#build a similarity matrix, with each row a session, each column a possible city, \n",
    "#values 0/1 if that city was searched in that session\n",
    "data_similarity['binary_value'] = 1\n",
    "data_similarity = data_similarity.pivot(index='session_id', columns='cities').fillna(0)\n",
    "\n",
    "print(data_similarity.shape)"
   ]
  },
  {
   "cell_type": "code",
   "execution_count": 54,
   "metadata": {},
   "outputs": [
    {
     "data": {
      "text/html": [
       "<div>\n",
       "<style scoped>\n",
       "    .dataframe tbody tr th:only-of-type {\n",
       "        vertical-align: middle;\n",
       "    }\n",
       "\n",
       "    .dataframe tbody tr th {\n",
       "        vertical-align: top;\n",
       "    }\n",
       "\n",
       "    .dataframe thead tr th {\n",
       "        text-align: left;\n",
       "    }\n",
       "\n",
       "    .dataframe thead tr:last-of-type th {\n",
       "        text-align: right;\n",
       "    }\n",
       "</style>\n",
       "<table border=\"1\" class=\"dataframe\">\n",
       "  <thead>\n",
       "    <tr>\n",
       "      <th></th>\n",
       "      <th colspan=\"21\" halign=\"left\">binary_value</th>\n",
       "    </tr>\n",
       "    <tr>\n",
       "      <th>cities</th>\n",
       "      <th>Anaheim CA</th>\n",
       "      <th>Arlington TX</th>\n",
       "      <th>Atlanta GA</th>\n",
       "      <th>Austin TX</th>\n",
       "      <th>Bakersfield CA</th>\n",
       "      <th>Baltimore MD</th>\n",
       "      <th>Birmingham AL</th>\n",
       "      <th>Boston MA</th>\n",
       "      <th>Buffalo NY</th>\n",
       "      <th>Calgary AB</th>\n",
       "      <th>...</th>\n",
       "      <th>Toledo OH</th>\n",
       "      <th>Toronto ON</th>\n",
       "      <th>Tucson AZ</th>\n",
       "      <th>Tulsa OK</th>\n",
       "      <th>Vancouver BC</th>\n",
       "      <th>Victoria BC</th>\n",
       "      <th>Virginia Beach VA</th>\n",
       "      <th>WASHINGTON DC</th>\n",
       "      <th>Wichita KS</th>\n",
       "      <th>Windsor ON</th>\n",
       "    </tr>\n",
       "    <tr>\n",
       "      <th>session_id</th>\n",
       "      <th></th>\n",
       "      <th></th>\n",
       "      <th></th>\n",
       "      <th></th>\n",
       "      <th></th>\n",
       "      <th></th>\n",
       "      <th></th>\n",
       "      <th></th>\n",
       "      <th></th>\n",
       "      <th></th>\n",
       "      <th></th>\n",
       "      <th></th>\n",
       "      <th></th>\n",
       "      <th></th>\n",
       "      <th></th>\n",
       "      <th></th>\n",
       "      <th></th>\n",
       "      <th></th>\n",
       "      <th></th>\n",
       "      <th></th>\n",
       "      <th></th>\n",
       "    </tr>\n",
       "  </thead>\n",
       "  <tbody>\n",
       "    <tr>\n",
       "      <th>005DKBSO9FEZL</th>\n",
       "      <td>0.0</td>\n",
       "      <td>0.0</td>\n",
       "      <td>0.0</td>\n",
       "      <td>0.0</td>\n",
       "      <td>0.0</td>\n",
       "      <td>1.0</td>\n",
       "      <td>0.0</td>\n",
       "      <td>0.0</td>\n",
       "      <td>0.0</td>\n",
       "      <td>0.0</td>\n",
       "      <td>...</td>\n",
       "      <td>0.0</td>\n",
       "      <td>0.0</td>\n",
       "      <td>0.0</td>\n",
       "      <td>0.0</td>\n",
       "      <td>0.0</td>\n",
       "      <td>0.0</td>\n",
       "      <td>0.0</td>\n",
       "      <td>0.0</td>\n",
       "      <td>0.0</td>\n",
       "      <td>0.0</td>\n",
       "    </tr>\n",
       "    <tr>\n",
       "      <th>006EM84U68V9I</th>\n",
       "      <td>0.0</td>\n",
       "      <td>0.0</td>\n",
       "      <td>0.0</td>\n",
       "      <td>0.0</td>\n",
       "      <td>0.0</td>\n",
       "      <td>0.0</td>\n",
       "      <td>0.0</td>\n",
       "      <td>0.0</td>\n",
       "      <td>0.0</td>\n",
       "      <td>0.0</td>\n",
       "      <td>...</td>\n",
       "      <td>0.0</td>\n",
       "      <td>0.0</td>\n",
       "      <td>0.0</td>\n",
       "      <td>0.0</td>\n",
       "      <td>0.0</td>\n",
       "      <td>0.0</td>\n",
       "      <td>0.0</td>\n",
       "      <td>0.0</td>\n",
       "      <td>0.0</td>\n",
       "      <td>0.0</td>\n",
       "    </tr>\n",
       "    <tr>\n",
       "      <th>009CAJV5IDV7Q</th>\n",
       "      <td>0.0</td>\n",
       "      <td>0.0</td>\n",
       "      <td>0.0</td>\n",
       "      <td>0.0</td>\n",
       "      <td>0.0</td>\n",
       "      <td>0.0</td>\n",
       "      <td>0.0</td>\n",
       "      <td>0.0</td>\n",
       "      <td>0.0</td>\n",
       "      <td>1.0</td>\n",
       "      <td>...</td>\n",
       "      <td>0.0</td>\n",
       "      <td>0.0</td>\n",
       "      <td>0.0</td>\n",
       "      <td>0.0</td>\n",
       "      <td>0.0</td>\n",
       "      <td>0.0</td>\n",
       "      <td>0.0</td>\n",
       "      <td>0.0</td>\n",
       "      <td>0.0</td>\n",
       "      <td>0.0</td>\n",
       "    </tr>\n",
       "    <tr>\n",
       "      <th>00AR2ULVTS3JY</th>\n",
       "      <td>0.0</td>\n",
       "      <td>0.0</td>\n",
       "      <td>0.0</td>\n",
       "      <td>0.0</td>\n",
       "      <td>0.0</td>\n",
       "      <td>0.0</td>\n",
       "      <td>0.0</td>\n",
       "      <td>0.0</td>\n",
       "      <td>0.0</td>\n",
       "      <td>0.0</td>\n",
       "      <td>...</td>\n",
       "      <td>0.0</td>\n",
       "      <td>0.0</td>\n",
       "      <td>0.0</td>\n",
       "      <td>0.0</td>\n",
       "      <td>0.0</td>\n",
       "      <td>0.0</td>\n",
       "      <td>0.0</td>\n",
       "      <td>0.0</td>\n",
       "      <td>0.0</td>\n",
       "      <td>0.0</td>\n",
       "    </tr>\n",
       "    <tr>\n",
       "      <th>00B1MRZFC6KZM</th>\n",
       "      <td>0.0</td>\n",
       "      <td>0.0</td>\n",
       "      <td>0.0</td>\n",
       "      <td>0.0</td>\n",
       "      <td>0.0</td>\n",
       "      <td>0.0</td>\n",
       "      <td>0.0</td>\n",
       "      <td>0.0</td>\n",
       "      <td>0.0</td>\n",
       "      <td>0.0</td>\n",
       "      <td>...</td>\n",
       "      <td>0.0</td>\n",
       "      <td>0.0</td>\n",
       "      <td>0.0</td>\n",
       "      <td>0.0</td>\n",
       "      <td>0.0</td>\n",
       "      <td>0.0</td>\n",
       "      <td>0.0</td>\n",
       "      <td>0.0</td>\n",
       "      <td>0.0</td>\n",
       "      <td>0.0</td>\n",
       "    </tr>\n",
       "    <tr>\n",
       "      <th>...</th>\n",
       "      <td>...</td>\n",
       "      <td>...</td>\n",
       "      <td>...</td>\n",
       "      <td>...</td>\n",
       "      <td>...</td>\n",
       "      <td>...</td>\n",
       "      <td>...</td>\n",
       "      <td>...</td>\n",
       "      <td>...</td>\n",
       "      <td>...</td>\n",
       "      <td>...</td>\n",
       "      <td>...</td>\n",
       "      <td>...</td>\n",
       "      <td>...</td>\n",
       "      <td>...</td>\n",
       "      <td>...</td>\n",
       "      <td>...</td>\n",
       "      <td>...</td>\n",
       "      <td>...</td>\n",
       "      <td>...</td>\n",
       "      <td>...</td>\n",
       "    </tr>\n",
       "    <tr>\n",
       "      <th>ZZTH5MZ1DY4PX</th>\n",
       "      <td>0.0</td>\n",
       "      <td>0.0</td>\n",
       "      <td>0.0</td>\n",
       "      <td>0.0</td>\n",
       "      <td>0.0</td>\n",
       "      <td>0.0</td>\n",
       "      <td>0.0</td>\n",
       "      <td>0.0</td>\n",
       "      <td>0.0</td>\n",
       "      <td>0.0</td>\n",
       "      <td>...</td>\n",
       "      <td>0.0</td>\n",
       "      <td>0.0</td>\n",
       "      <td>0.0</td>\n",
       "      <td>0.0</td>\n",
       "      <td>0.0</td>\n",
       "      <td>0.0</td>\n",
       "      <td>0.0</td>\n",
       "      <td>0.0</td>\n",
       "      <td>0.0</td>\n",
       "      <td>0.0</td>\n",
       "    </tr>\n",
       "    <tr>\n",
       "      <th>ZZWVLMEY5H5DM</th>\n",
       "      <td>0.0</td>\n",
       "      <td>0.0</td>\n",
       "      <td>0.0</td>\n",
       "      <td>0.0</td>\n",
       "      <td>0.0</td>\n",
       "      <td>0.0</td>\n",
       "      <td>0.0</td>\n",
       "      <td>0.0</td>\n",
       "      <td>0.0</td>\n",
       "      <td>0.0</td>\n",
       "      <td>...</td>\n",
       "      <td>0.0</td>\n",
       "      <td>0.0</td>\n",
       "      <td>0.0</td>\n",
       "      <td>0.0</td>\n",
       "      <td>0.0</td>\n",
       "      <td>0.0</td>\n",
       "      <td>0.0</td>\n",
       "      <td>0.0</td>\n",
       "      <td>0.0</td>\n",
       "      <td>0.0</td>\n",
       "    </tr>\n",
       "    <tr>\n",
       "      <th>ZZXKUGEYHZXOJ</th>\n",
       "      <td>0.0</td>\n",
       "      <td>0.0</td>\n",
       "      <td>0.0</td>\n",
       "      <td>0.0</td>\n",
       "      <td>0.0</td>\n",
       "      <td>0.0</td>\n",
       "      <td>0.0</td>\n",
       "      <td>0.0</td>\n",
       "      <td>0.0</td>\n",
       "      <td>0.0</td>\n",
       "      <td>...</td>\n",
       "      <td>0.0</td>\n",
       "      <td>0.0</td>\n",
       "      <td>0.0</td>\n",
       "      <td>0.0</td>\n",
       "      <td>0.0</td>\n",
       "      <td>0.0</td>\n",
       "      <td>0.0</td>\n",
       "      <td>0.0</td>\n",
       "      <td>0.0</td>\n",
       "      <td>0.0</td>\n",
       "    </tr>\n",
       "    <tr>\n",
       "      <th>ZZYCEP57WDPTC</th>\n",
       "      <td>0.0</td>\n",
       "      <td>0.0</td>\n",
       "      <td>0.0</td>\n",
       "      <td>0.0</td>\n",
       "      <td>0.0</td>\n",
       "      <td>0.0</td>\n",
       "      <td>0.0</td>\n",
       "      <td>0.0</td>\n",
       "      <td>0.0</td>\n",
       "      <td>0.0</td>\n",
       "      <td>...</td>\n",
       "      <td>0.0</td>\n",
       "      <td>0.0</td>\n",
       "      <td>0.0</td>\n",
       "      <td>0.0</td>\n",
       "      <td>1.0</td>\n",
       "      <td>0.0</td>\n",
       "      <td>0.0</td>\n",
       "      <td>0.0</td>\n",
       "      <td>0.0</td>\n",
       "      <td>0.0</td>\n",
       "    </tr>\n",
       "    <tr>\n",
       "      <th>ZZZ3P5GW1PJWL</th>\n",
       "      <td>0.0</td>\n",
       "      <td>0.0</td>\n",
       "      <td>0.0</td>\n",
       "      <td>0.0</td>\n",
       "      <td>0.0</td>\n",
       "      <td>0.0</td>\n",
       "      <td>0.0</td>\n",
       "      <td>0.0</td>\n",
       "      <td>0.0</td>\n",
       "      <td>0.0</td>\n",
       "      <td>...</td>\n",
       "      <td>0.0</td>\n",
       "      <td>0.0</td>\n",
       "      <td>0.0</td>\n",
       "      <td>0.0</td>\n",
       "      <td>0.0</td>\n",
       "      <td>0.0</td>\n",
       "      <td>0.0</td>\n",
       "      <td>0.0</td>\n",
       "      <td>0.0</td>\n",
       "      <td>0.0</td>\n",
       "    </tr>\n",
       "  </tbody>\n",
       "</table>\n",
       "<p>20022 rows × 87 columns</p>\n",
       "</div>"
      ],
      "text/plain": [
       "              binary_value                                                   \\\n",
       "cities          Anaheim CA Arlington TX Atlanta GA Austin TX Bakersfield CA   \n",
       "session_id                                                                    \n",
       "005DKBSO9FEZL          0.0          0.0        0.0       0.0            0.0   \n",
       "006EM84U68V9I          0.0          0.0        0.0       0.0            0.0   \n",
       "009CAJV5IDV7Q          0.0          0.0        0.0       0.0            0.0   \n",
       "00AR2ULVTS3JY          0.0          0.0        0.0       0.0            0.0   \n",
       "00B1MRZFC6KZM          0.0          0.0        0.0       0.0            0.0   \n",
       "...                    ...          ...        ...       ...            ...   \n",
       "ZZTH5MZ1DY4PX          0.0          0.0        0.0       0.0            0.0   \n",
       "ZZWVLMEY5H5DM          0.0          0.0        0.0       0.0            0.0   \n",
       "ZZXKUGEYHZXOJ          0.0          0.0        0.0       0.0            0.0   \n",
       "ZZYCEP57WDPTC          0.0          0.0        0.0       0.0            0.0   \n",
       "ZZZ3P5GW1PJWL          0.0          0.0        0.0       0.0            0.0   \n",
       "\n",
       "                                                                          ...  \\\n",
       "cities        Baltimore MD Birmingham AL Boston MA Buffalo NY Calgary AB  ...   \n",
       "session_id                                                                ...   \n",
       "005DKBSO9FEZL          1.0           0.0       0.0        0.0        0.0  ...   \n",
       "006EM84U68V9I          0.0           0.0       0.0        0.0        0.0  ...   \n",
       "009CAJV5IDV7Q          0.0           0.0       0.0        0.0        1.0  ...   \n",
       "00AR2ULVTS3JY          0.0           0.0       0.0        0.0        0.0  ...   \n",
       "00B1MRZFC6KZM          0.0           0.0       0.0        0.0        0.0  ...   \n",
       "...                    ...           ...       ...        ...        ...  ...   \n",
       "ZZTH5MZ1DY4PX          0.0           0.0       0.0        0.0        0.0  ...   \n",
       "ZZWVLMEY5H5DM          0.0           0.0       0.0        0.0        0.0  ...   \n",
       "ZZXKUGEYHZXOJ          0.0           0.0       0.0        0.0        0.0  ...   \n",
       "ZZYCEP57WDPTC          0.0           0.0       0.0        0.0        0.0  ...   \n",
       "ZZZ3P5GW1PJWL          0.0           0.0       0.0        0.0        0.0  ...   \n",
       "\n",
       "                                                                    \\\n",
       "cities        Toledo OH Toronto ON Tucson AZ Tulsa OK Vancouver BC   \n",
       "session_id                                                           \n",
       "005DKBSO9FEZL       0.0        0.0       0.0      0.0          0.0   \n",
       "006EM84U68V9I       0.0        0.0       0.0      0.0          0.0   \n",
       "009CAJV5IDV7Q       0.0        0.0       0.0      0.0          0.0   \n",
       "00AR2ULVTS3JY       0.0        0.0       0.0      0.0          0.0   \n",
       "00B1MRZFC6KZM       0.0        0.0       0.0      0.0          0.0   \n",
       "...                 ...        ...       ...      ...          ...   \n",
       "ZZTH5MZ1DY4PX       0.0        0.0       0.0      0.0          0.0   \n",
       "ZZWVLMEY5H5DM       0.0        0.0       0.0      0.0          0.0   \n",
       "ZZXKUGEYHZXOJ       0.0        0.0       0.0      0.0          0.0   \n",
       "ZZYCEP57WDPTC       0.0        0.0       0.0      0.0          1.0   \n",
       "ZZZ3P5GW1PJWL       0.0        0.0       0.0      0.0          0.0   \n",
       "\n",
       "                                                                      \\\n",
       "cities        Victoria BC Virginia Beach VA WASHINGTON DC Wichita KS   \n",
       "session_id                                                             \n",
       "005DKBSO9FEZL         0.0               0.0           0.0        0.0   \n",
       "006EM84U68V9I         0.0               0.0           0.0        0.0   \n",
       "009CAJV5IDV7Q         0.0               0.0           0.0        0.0   \n",
       "00AR2ULVTS3JY         0.0               0.0           0.0        0.0   \n",
       "00B1MRZFC6KZM         0.0               0.0           0.0        0.0   \n",
       "...                   ...               ...           ...        ...   \n",
       "ZZTH5MZ1DY4PX         0.0               0.0           0.0        0.0   \n",
       "ZZWVLMEY5H5DM         0.0               0.0           0.0        0.0   \n",
       "ZZXKUGEYHZXOJ         0.0               0.0           0.0        0.0   \n",
       "ZZYCEP57WDPTC         0.0               0.0           0.0        0.0   \n",
       "ZZZ3P5GW1PJWL         0.0               0.0           0.0        0.0   \n",
       "\n",
       "                          \n",
       "cities        Windsor ON  \n",
       "session_id                \n",
       "005DKBSO9FEZL        0.0  \n",
       "006EM84U68V9I        0.0  \n",
       "009CAJV5IDV7Q        0.0  \n",
       "00AR2ULVTS3JY        0.0  \n",
       "00B1MRZFC6KZM        0.0  \n",
       "...                  ...  \n",
       "ZZTH5MZ1DY4PX        0.0  \n",
       "ZZWVLMEY5H5DM        0.0  \n",
       "ZZXKUGEYHZXOJ        0.0  \n",
       "ZZYCEP57WDPTC        0.0  \n",
       "ZZZ3P5GW1PJWL        0.0  \n",
       "\n",
       "[20022 rows x 87 columns]"
      ]
     },
     "execution_count": 54,
     "metadata": {},
     "output_type": "execute_result"
    }
   ],
   "source": [
    "data_similarity"
   ]
  },
  {
   "cell_type": "code",
   "execution_count": 55,
   "metadata": {},
   "outputs": [],
   "source": [
    "from sklearn import metrics\n",
    "\n",
    "#use cosine similarity\n",
    "city_cosine = pandas.DataFrame(metrics.pairwise.cosine_similarity(data_similarity.T))\n",
    "\n",
    "#add index and column names \n",
    "city_cosine.columns = data_similarity.columns.get_level_values(1)\n",
    "city_cosine.index = city_cosine.columns\n",
    "  \n",
    "#for each city, find the column with the highest value \n",
    "closest_city = pandas.DataFrame({\"most_similar_city\":[None]*len(city_cosine)})\n",
    "\n",
    "#Let's have cities as index\n",
    "closest_city.index = city_cosine.index\n",
    "  \n",
    "#For each row, we pick the highest score\n",
    "i = 0\n",
    "while i < len(closest_city):\n",
    "      #for each city, this gives a list of cosine similarity with the other cities\n",
    "        tmp_cosine = city_cosine.drop(city_cosine.columns[i], axis=1).iloc[i]\n",
    "      #and now we pick the city with the max\n",
    "        closest_city.most_similar_city.iloc[i] = tmp_cosine.idxmax()\n",
    "        i += 1\n",
    "  \n",
    "\n"
   ]
  },
  {
   "cell_type": "code",
   "execution_count": 56,
   "metadata": {},
   "outputs": [
    {
     "data": {
      "text/html": [
       "<div>\n",
       "<style scoped>\n",
       "    .dataframe tbody tr th:only-of-type {\n",
       "        vertical-align: middle;\n",
       "    }\n",
       "\n",
       "    .dataframe tbody tr th {\n",
       "        vertical-align: top;\n",
       "    }\n",
       "\n",
       "    .dataframe thead th {\n",
       "        text-align: right;\n",
       "    }\n",
       "</style>\n",
       "<table border=\"1\" class=\"dataframe\">\n",
       "  <thead>\n",
       "    <tr style=\"text-align: right;\">\n",
       "      <th></th>\n",
       "      <th>most_similar_city</th>\n",
       "    </tr>\n",
       "    <tr>\n",
       "      <th>cities</th>\n",
       "      <th></th>\n",
       "    </tr>\n",
       "  </thead>\n",
       "  <tbody>\n",
       "    <tr>\n",
       "      <th>Anaheim CA</th>\n",
       "      <td>Santa Ana CA</td>\n",
       "    </tr>\n",
       "    <tr>\n",
       "      <th>Arlington TX</th>\n",
       "      <td>Fort Worth TX</td>\n",
       "    </tr>\n",
       "    <tr>\n",
       "      <th>Atlanta GA</th>\n",
       "      <td>Birmingham AL</td>\n",
       "    </tr>\n",
       "    <tr>\n",
       "      <th>Austin TX</th>\n",
       "      <td>San Antonio TX</td>\n",
       "    </tr>\n",
       "    <tr>\n",
       "      <th>Bakersfield CA</th>\n",
       "      <td>Fresno CA</td>\n",
       "    </tr>\n",
       "  </tbody>\n",
       "</table>\n",
       "</div>"
      ],
      "text/plain": [
       "               most_similar_city\n",
       "cities                          \n",
       "Anaheim CA          Santa Ana CA\n",
       "Arlington TX       Fort Worth TX\n",
       "Atlanta GA         Birmingham AL\n",
       "Austin TX         San Antonio TX\n",
       "Bakersfield CA         Fresno CA"
      ]
     },
     "execution_count": 56,
     "metadata": {},
     "output_type": "execute_result"
    }
   ],
   "source": [
    "closest_city.head()"
   ]
  },
  {
   "cell_type": "code",
   "execution_count": null,
   "metadata": {},
   "outputs": [],
   "source": [
    "# cluster user sessions based on travel intent \n",
    "# the assumption is that poeple with high intent to travel will search cities close to each other \n",
    "# and people with low intent will search random cities \n",
    "# first remove searches with just one city, since we don't have enough information \n",
    "data_intent = data['cities'][count_per_session>1].reset_index(drop=True)\n"
   ]
  },
  {
   "cell_type": "code",
   "execution_count": 64,
   "metadata": {},
   "outputs": [],
   "source": [
    "\n",
    "score = []\n",
    "i = 0\n",
    "#loop through all the rows\n",
    "while i < len(data_intent):\n",
    "    #find all cities within one session\n",
    "    cities_intent  = data_intent[i].split(\", \")\n",
    "    #get all pairwise combinations\n",
    "    cities_combinations = list(itertools.combinations(cities_intent, 2))\n",
    "    #calculate mean of cosine similarity between those pairs\n",
    "    pairwise_distance = []\n",
    "    for j in range(len(cities_combinations)):\n",
    "          pairwise_distance.append(city_cosine.loc[cities_combinations[j][0], cities_combinations[j][1]])\n",
    "    score.append(statistics.mean(pairwise_distance))\n",
    "    i += 1\n",
    "\n",
    "  \n"
   ]
  },
  {
   "cell_type": "code",
   "execution_count": 65,
   "metadata": {},
   "outputs": [
    {
     "data": {
      "image/png": "[encoded data removed]",
      "text/plain": [
       "<Figure size 432x288 with 1 Axes>"
      ]
     },
     "metadata": {
      "needs_background": "light"
     },
     "output_type": "display_data"
    }
   ],
   "source": [
    "# show average distance distributions \n",
    "sns.distplot(score)\n",
    "plt.show()"
   ]
  },
  {
   "cell_type": "code",
   "execution_count": 66,
   "metadata": {},
   "outputs": [
    {
     "name": "stdout",
     "output_type": "stream",
     "text": [
      "0.1 represents the 43.8th percentile\n"
     ]
    }
   ],
   "source": [
    "print(\"0.1 represents the \", round(scipy.stats.percentileofscore(score, 0.1), 1), \"th \", \"percentile\", sep=\"\")"
   ]
  },
  {
   "cell_type": "markdown",
   "metadata": {},
   "source": [
    "If our assumption is valid and we take 0.1 as threshold, approximately 56% of users are actually planning a trip and 44% of them don’t have high intent to book."
   ]
  }
 ],
 "metadata": {
  "kernelspec": {
   "display_name": "Python 3",
   "language": "python",
   "name": "python3"
  },
  "language_info": {
   "codemirror_mode": {
    "name": "ipython",
    "version": 3
   },
   "file_extension": ".py",
   "mimetype": "text/x-python",
   "name": "python",
   "nbconvert_exporter": "python",
   "pygments_lexer": "ipython3",
   "version": "3.8.3"
  }
 },
 "nbformat": 4,
 "nbformat_minor": 4
}
